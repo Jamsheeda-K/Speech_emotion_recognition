{
 "cells": [
  {
   "cell_type": "markdown",
   "metadata": {},
   "source": [
    "## Speech Emotion Recognition using CNN"
   ]
  },
  {
   "cell_type": "markdown",
   "metadata": {},
   "source": [
    "#### How do I apply CNN to audio?"
   ]
  },
  {
   "cell_type": "markdown",
   "metadata": {},
   "source": [
    "* Audio can be thought of an image > Spectogram/MFCC = image\n",
    "* time frequency = x,y\n",
    "* amplitude = pixel value\n",
    "* 13 MFCCs, hop_length=512\n",
    "* Audio data can be compared to grey scale image, depth=1"
   ]
  },
  {
   "cell_type": "code",
   "execution_count": 4,
   "metadata": {},
   "outputs": [],
   "source": [
    "import os\n",
    "import librosa\n",
    "import math\n",
    "import json\n",
    "import numpy as np\n",
    "from sklearn.model_selection import train_test_split\n",
    "import tensorflow as tf\n",
    "import matplotlib.pyplot as plt\n",
    "from sklearn.metrics import confusion_matrix"
   ]
  },
  {
   "cell_type": "code",
   "execution_count": 5,
   "metadata": {},
   "outputs": [],
   "source": [
    "# these lines were required as keras could not identify my system GPU\n",
    "import os\n",
    "os.environ[\"CUDA_VISIBLE_DEVICES\"]=\"-1\""
   ]
  },
  {
   "cell_type": "code",
   "execution_count": 6,
   "metadata": {},
   "outputs": [],
   "source": [
    "# loading mfcc data > conversion of audio files to mfcc is done in the preprocessing of audio notebook\n",
    "def load_data(dataset_path):\n",
    "    with open(dataset_path,'r') as fp:\n",
    "        data = json.load(fp)\n",
    "        \n",
    "    #convert lists to numpy arrays\n",
    "    inputs = np.array(data[\"mfcc\"])\n",
    "    targets = np.array(data[\"labels\"])\n",
    "    \n",
    "    return inputs,targets"
   ]
  },
  {
   "cell_type": "code",
   "execution_count": 7,
   "metadata": {},
   "outputs": [],
   "source": [
    "JSON_PATH = \"./outputs/ravdess_complete.json\""
   ]
  },
  {
   "cell_type": "code",
   "execution_count": 8,
   "metadata": {},
   "outputs": [],
   "source": [
    "# load the data\n",
    "X,y = load_data(JSON_PATH)"
   ]
  },
  {
   "cell_type": "code",
   "execution_count": 9,
   "metadata": {},
   "outputs": [
    {
     "data": {
      "text/plain": [
       "((1438, 130, 13), (1438,))"
      ]
     },
     "execution_count": 9,
     "metadata": {},
     "output_type": "execute_result"
    }
   ],
   "source": [
    "X.shape,y.shape"
   ]
  },
  {
   "cell_type": "code",
   "execution_count": 10,
   "metadata": {},
   "outputs": [],
   "source": [
    "#Emotion (0 = neutral, 1 = calm, 2 = happy, 3 = sad, 4 = angry, 5 = fearful, 6 = disgust, 7 = surprised)\n",
    "# selecting only calm,happy,angry \n",
    "\n",
    "X = X[(y!=0)]\n",
    "y = y[(y!=0)]\n",
    "X = X[(y!=3)]\n",
    "y = y[(y!=3)]\n",
    "X = X[(y<=4)]\n",
    "y = y[(y<=4)]"
   ]
  },
  {
   "cell_type": "code",
   "execution_count": 11,
   "metadata": {},
   "outputs": [],
   "source": [
    "# So I have now 2,3 and 4 in the training > it needs to be 0,1,2\n",
    "y = np.where(y==1, 0, y)\n",
    "y = np.where(y==2, 1, y)\n",
    "y = np.where(y==4, 2, y)"
   ]
  },
  {
   "cell_type": "code",
   "execution_count": 12,
   "metadata": {},
   "outputs": [
    {
     "data": {
      "text/plain": [
       "((575,), (575, 130, 13))"
      ]
     },
     "execution_count": 12,
     "metadata": {},
     "output_type": "execute_result"
    }
   ],
   "source": [
    "y.shape, X.shape"
   ]
  },
  {
   "cell_type": "code",
   "execution_count": 13,
   "metadata": {},
   "outputs": [],
   "source": [
    "# shape of each input entry : (number of samples per second/hop_length)*duration"
   ]
  },
  {
   "cell_type": "code",
   "execution_count": 14,
   "metadata": {},
   "outputs": [],
   "source": [
    "def prepare_data(X,y,test_size,validation_size):\n",
    "    \n",
    "    # splitting data into train and test set\n",
    "    X_train,X_test,y_train,y_test = train_test_split(X,y,test_size=test_size)\n",
    "    \n",
    "    # splitting data into train and validation set\n",
    "    X_train,X_validation,y_train,y_validation = train_test_split(X,y,test_size=validation_size)\n",
    "    \n",
    "    # add extra dimension , as sound files are treated like greyscale images\n",
    "    X_train = X_train[...,np.newaxis] #4d array num_samples x 130 x 13 x 1\n",
    "    X_test = X_test[...,np.newaxis]\n",
    "    X_validation = X_validation[...,np.newaxis]\n",
    "    return X_train,X_validation,X_test,y_train,y_validation,y_test"
   ]
  },
  {
   "cell_type": "code",
   "execution_count": 15,
   "metadata": {},
   "outputs": [],
   "source": [
    "# splitting data into train,validation and test set\n",
    "X_train,X_validation,X_test,y_train,y_validation,y_test = prepare_data(X,y,test_size=0.25,validation_size=0.2)"
   ]
  },
  {
   "cell_type": "code",
   "execution_count": 16,
   "metadata": {},
   "outputs": [
    {
     "data": {
      "text/plain": [
       "(460, 130, 13, 1)"
      ]
     },
     "execution_count": 16,
     "metadata": {},
     "output_type": "execute_result"
    }
   ],
   "source": [
    "X_train.shape"
   ]
  },
  {
   "cell_type": "code",
   "execution_count": 17,
   "metadata": {},
   "outputs": [],
   "source": [
    "def build_model(input_shape):\n",
    "    #create model\n",
    "    model = tf.keras.Sequential()\n",
    "    #model.add(tf.keras.layers.BatchNormalization())\n",
    "    \n",
    "    #1st conv layer\n",
    "    model.add(tf.keras.layers.Conv2D(8,(3,3),activation=\"relu\",input_shape=input_shape))\n",
    "    model.add(tf.keras.layers.MaxPool2D((3,3),strides=(2,2),padding='same'))\n",
    "    model.add(tf.keras.layers.BatchNormalization())\n",
    "    \n",
    "    #2nd conv layer\n",
    "    #model.add(tf.keras.layers.Conv2D(32,(3,3),activation=\"relu\",input_shape=input_shape))\n",
    "    #model.add(tf.keras.layers.MaxPool2D((3,3),strides=(2,2),padding='same'))\n",
    "    #model.add(tf.keras.layers.BatchNormalization())\n",
    "\n",
    "    #3rd conv layer\n",
    "    #model.add(tf.keras.layers.Conv2D(32,(2,2),activation=\"relu\",input_shape=input_shape))\n",
    "    #model.add(tf.keras.layers.MaxPool2D((2,2),strides=(2,2),padding='same'))\n",
    "    #model.add(tf.keras.layers.BatchNormalization())\n",
    "    \n",
    "    #flatten and feed to dense layer\n",
    "    model.add(tf.keras.layers.Flatten())\n",
    "    model.add(tf.keras.layers.Dense(64,activation=\"relu\",input_shape=(3072,)))\n",
    "    model.add(tf.keras.layers.Dropout(0.3))\n",
    "    \n",
    "    #output layer that feeds to softmax\n",
    "    model.add(tf.keras.layers.Dense(3,activation=\"softmax\"))\n",
    "    \n",
    "    return model\n",
    "    "
   ]
  },
  {
   "cell_type": "code",
   "execution_count": 18,
   "metadata": {},
   "outputs": [],
   "source": [
    "# building the CNN\n",
    "input_shape = (X_train.shape[1],X_train.shape[2],X_train.shape[3])\n",
    "\n",
    "model = build_model(input_shape)\n",
    "\n",
    "model.compile(optimizer = tf.keras.optimizers.Adam(),loss=\"sparse_categorical_crossentropy\",metrics=[\"accuracy\"])\n"
   ]
  },
  {
   "cell_type": "code",
   "execution_count": 19,
   "metadata": {},
   "outputs": [
    {
     "name": "stdout",
     "output_type": "stream",
     "text": [
      "Epoch 1/100\n",
      "15/15 [==============================] - 3s 116ms/step - loss: 1.8805 - accuracy: 0.3597 - val_loss: 2.5962 - val_accuracy: 0.4348\n",
      "Epoch 2/100\n",
      "15/15 [==============================] - 1s 41ms/step - loss: 0.7898 - accuracy: 0.6363 - val_loss: 2.1203 - val_accuracy: 0.4783\n",
      "Epoch 3/100\n",
      "15/15 [==============================] - 1s 41ms/step - loss: 0.6468 - accuracy: 0.7187 - val_loss: 2.5255 - val_accuracy: 0.4261\n",
      "Epoch 4/100\n",
      "15/15 [==============================] - 1s 42ms/step - loss: 0.5399 - accuracy: 0.7621 - val_loss: 1.7264 - val_accuracy: 0.5565\n",
      "Epoch 5/100\n",
      "15/15 [==============================] - 1s 41ms/step - loss: 0.3981 - accuracy: 0.8671 - val_loss: 1.6296 - val_accuracy: 0.4783\n",
      "Epoch 6/100\n",
      "15/15 [==============================] - 1s 40ms/step - loss: 0.3921 - accuracy: 0.8462 - val_loss: 1.6007 - val_accuracy: 0.4696\n",
      "Epoch 7/100\n",
      "15/15 [==============================] - 1s 40ms/step - loss: 0.3421 - accuracy: 0.8834 - val_loss: 1.1942 - val_accuracy: 0.5391\n",
      "Epoch 8/100\n",
      "15/15 [==============================] - 1s 39ms/step - loss: 0.3438 - accuracy: 0.8834 - val_loss: 1.0029 - val_accuracy: 0.5913\n",
      "Epoch 9/100\n",
      "15/15 [==============================] - 1s 40ms/step - loss: 0.2888 - accuracy: 0.8972 - val_loss: 1.0621 - val_accuracy: 0.6000\n",
      "Epoch 10/100\n",
      "15/15 [==============================] - 1s 40ms/step - loss: 0.2703 - accuracy: 0.8989 - val_loss: 0.5197 - val_accuracy: 0.7652\n",
      "Epoch 11/100\n",
      "15/15 [==============================] - 1s 42ms/step - loss: 0.2081 - accuracy: 0.9156 - val_loss: 0.5040 - val_accuracy: 0.7739\n",
      "Epoch 12/100\n",
      "15/15 [==============================] - 1s 44ms/step - loss: 0.2219 - accuracy: 0.9251 - val_loss: 0.4140 - val_accuracy: 0.8261\n",
      "Epoch 13/100\n",
      "15/15 [==============================] - 1s 38ms/step - loss: 0.2084 - accuracy: 0.9082 - val_loss: 0.4862 - val_accuracy: 0.8261\n",
      "Epoch 14/100\n",
      "15/15 [==============================] - 1s 51ms/step - loss: 0.1674 - accuracy: 0.9487 - val_loss: 0.3365 - val_accuracy: 0.9043\n",
      "Epoch 15/100\n",
      "15/15 [==============================] - 1s 39ms/step - loss: 0.2028 - accuracy: 0.9132 - val_loss: 0.3740 - val_accuracy: 0.8870\n",
      "Epoch 16/100\n",
      "15/15 [==============================] - 1s 45ms/step - loss: 0.1558 - accuracy: 0.9498 - val_loss: 0.4099 - val_accuracy: 0.8000\n",
      "Epoch 17/100\n",
      "15/15 [==============================] - 1s 40ms/step - loss: 0.1816 - accuracy: 0.9419 - val_loss: 0.3991 - val_accuracy: 0.8261\n",
      "Epoch 18/100\n",
      "15/15 [==============================] - 1s 40ms/step - loss: 0.1406 - accuracy: 0.9661 - val_loss: 0.3272 - val_accuracy: 0.9130\n",
      "Epoch 19/100\n",
      "15/15 [==============================] - 1s 38ms/step - loss: 0.1042 - accuracy: 0.9568 - val_loss: 0.3029 - val_accuracy: 0.9130\n",
      "Epoch 20/100\n",
      "15/15 [==============================] - 1s 41ms/step - loss: 0.0949 - accuracy: 0.9717 - val_loss: 0.3604 - val_accuracy: 0.8609\n",
      "Epoch 21/100\n",
      "15/15 [==============================] - 1s 42ms/step - loss: 0.0862 - accuracy: 0.9810 - val_loss: 0.3555 - val_accuracy: 0.8783\n",
      "Epoch 22/100\n",
      "15/15 [==============================] - 1s 37ms/step - loss: 0.0759 - accuracy: 0.9735 - val_loss: 0.3313 - val_accuracy: 0.8957\n",
      "Epoch 23/100\n",
      "15/15 [==============================] - 1s 38ms/step - loss: 0.0754 - accuracy: 0.9792 - val_loss: 0.4266 - val_accuracy: 0.8783\n",
      "Epoch 24/100\n",
      "15/15 [==============================] - 1s 39ms/step - loss: 0.0864 - accuracy: 0.9690 - val_loss: 0.3721 - val_accuracy: 0.8783\n",
      "Epoch 25/100\n",
      "15/15 [==============================] - 1s 39ms/step - loss: 0.0537 - accuracy: 0.9882 - val_loss: 0.3875 - val_accuracy: 0.8957\n",
      "Epoch 26/100\n",
      "15/15 [==============================] - 1s 40ms/step - loss: 0.0519 - accuracy: 0.9858 - val_loss: 0.3672 - val_accuracy: 0.9043\n",
      "Epoch 27/100\n",
      "15/15 [==============================] - 1s 40ms/step - loss: 0.0379 - accuracy: 0.9914 - val_loss: 0.4150 - val_accuracy: 0.8957\n",
      "Epoch 28/100\n",
      "15/15 [==============================] - 1s 38ms/step - loss: 0.0555 - accuracy: 0.9844 - val_loss: 0.3733 - val_accuracy: 0.9043\n",
      "Epoch 29/100\n",
      "15/15 [==============================] - 1s 40ms/step - loss: 0.0791 - accuracy: 0.9710 - val_loss: 0.3321 - val_accuracy: 0.9130\n",
      "Epoch 30/100\n",
      "15/15 [==============================] - 1s 40ms/step - loss: 0.0479 - accuracy: 0.9878 - val_loss: 0.4384 - val_accuracy: 0.8957\n",
      "Epoch 31/100\n",
      "15/15 [==============================] - 1s 39ms/step - loss: 0.0451 - accuracy: 0.9980 - val_loss: 0.3598 - val_accuracy: 0.9043\n",
      "Epoch 32/100\n",
      "15/15 [==============================] - 1s 39ms/step - loss: 0.0284 - accuracy: 0.9991 - val_loss: 0.4620 - val_accuracy: 0.8957\n",
      "Epoch 33/100\n",
      "15/15 [==============================] - 1s 39ms/step - loss: 0.0417 - accuracy: 0.9884 - val_loss: 0.3912 - val_accuracy: 0.9043\n",
      "Epoch 34/100\n",
      "15/15 [==============================] - 1s 40ms/step - loss: 0.0327 - accuracy: 0.9914 - val_loss: 0.4038 - val_accuracy: 0.8609\n",
      "Epoch 35/100\n",
      "15/15 [==============================] - 1s 40ms/step - loss: 0.0455 - accuracy: 0.9897 - val_loss: 0.4562 - val_accuracy: 0.8696\n",
      "Epoch 36/100\n",
      "15/15 [==============================] - 1s 39ms/step - loss: 0.0447 - accuracy: 0.9800 - val_loss: 0.5158 - val_accuracy: 0.8696\n",
      "Epoch 37/100\n",
      "15/15 [==============================] - 1s 38ms/step - loss: 0.0285 - accuracy: 0.9951 - val_loss: 0.4338 - val_accuracy: 0.8696\n",
      "Epoch 38/100\n",
      "15/15 [==============================] - 1s 41ms/step - loss: 0.0250 - accuracy: 1.0000 - val_loss: 0.4983 - val_accuracy: 0.8870\n",
      "Epoch 39/100\n",
      "15/15 [==============================] - 1s 40ms/step - loss: 0.0300 - accuracy: 0.9919 - val_loss: 0.4566 - val_accuracy: 0.9043\n",
      "Epoch 40/100\n",
      "15/15 [==============================] - 1s 38ms/step - loss: 0.0251 - accuracy: 0.9886 - val_loss: 0.4635 - val_accuracy: 0.8870\n",
      "Epoch 41/100\n",
      "15/15 [==============================] - 1s 43ms/step - loss: 0.0269 - accuracy: 0.9955 - val_loss: 0.3876 - val_accuracy: 0.9130\n",
      "Epoch 42/100\n",
      "15/15 [==============================] - 1s 43ms/step - loss: 0.0342 - accuracy: 0.9936 - val_loss: 0.4182 - val_accuracy: 0.9043\n",
      "Epoch 43/100\n",
      "15/15 [==============================] - 1s 39ms/step - loss: 0.0493 - accuracy: 0.9805 - val_loss: 0.4829 - val_accuracy: 0.8783\n",
      "Epoch 44/100\n",
      "15/15 [==============================] - 1s 39ms/step - loss: 0.0336 - accuracy: 0.9850 - val_loss: 0.4702 - val_accuracy: 0.8783\n",
      "Epoch 45/100\n",
      "15/15 [==============================] - ETA: 0s - loss: 0.0292 - accuracy: 0.98 - 1s 39ms/step - loss: 0.0294 - accuracy: 0.9885 - val_loss: 0.4966 - val_accuracy: 0.8783\n",
      "Epoch 46/100\n",
      "15/15 [==============================] - 1s 40ms/step - loss: 0.0288 - accuracy: 0.9931 - val_loss: 0.4165 - val_accuracy: 0.9043\n",
      "Epoch 47/100\n",
      "15/15 [==============================] - 1s 38ms/step - loss: 0.0228 - accuracy: 0.9890 - val_loss: 0.4577 - val_accuracy: 0.9043\n",
      "Epoch 48/100\n",
      "15/15 [==============================] - 1s 42ms/step - loss: 0.0233 - accuracy: 0.9957 - val_loss: 0.5737 - val_accuracy: 0.8870\n",
      "Epoch 49/100\n",
      "15/15 [==============================] - 1s 47ms/step - loss: 0.0318 - accuracy: 0.9905 - val_loss: 0.4181 - val_accuracy: 0.9130\n",
      "Epoch 50/100\n",
      "15/15 [==============================] - 1s 43ms/step - loss: 0.0241 - accuracy: 0.9970 - val_loss: 0.5235 - val_accuracy: 0.8696\n",
      "Epoch 51/100\n",
      "15/15 [==============================] - 1s 40ms/step - loss: 0.0204 - accuracy: 0.9938 - val_loss: 0.5311 - val_accuracy: 0.8783\n",
      "Epoch 52/100\n",
      "15/15 [==============================] - 1s 41ms/step - loss: 0.0190 - accuracy: 0.9942 - val_loss: 0.4375 - val_accuracy: 0.8957\n",
      "Epoch 53/100\n",
      "15/15 [==============================] - 1s 40ms/step - loss: 0.0118 - accuracy: 1.0000 - val_loss: 0.4932 - val_accuracy: 0.8957\n",
      "Epoch 54/100\n",
      "15/15 [==============================] - 1s 41ms/step - loss: 0.0178 - accuracy: 0.9969 - val_loss: 0.4956 - val_accuracy: 0.8957\n",
      "Epoch 55/100\n",
      "15/15 [==============================] - 1s 39ms/step - loss: 0.0108 - accuracy: 1.0000 - val_loss: 0.4666 - val_accuracy: 0.9043\n",
      "Epoch 56/100\n",
      "15/15 [==============================] - 1s 39ms/step - loss: 0.0196 - accuracy: 0.9908 - val_loss: 0.4646 - val_accuracy: 0.8870\n",
      "Epoch 57/100\n",
      "15/15 [==============================] - 1s 41ms/step - loss: 0.0171 - accuracy: 0.9918 - val_loss: 0.4841 - val_accuracy: 0.8957\n",
      "Epoch 58/100\n"
     ]
    },
    {
     "name": "stdout",
     "output_type": "stream",
     "text": [
      "15/15 [==============================] - 1s 39ms/step - loss: 0.0173 - accuracy: 0.9978 - val_loss: 0.5641 - val_accuracy: 0.8783\n",
      "Epoch 59/100\n",
      "15/15 [==============================] - 1s 37ms/step - loss: 0.0105 - accuracy: 1.0000 - val_loss: 0.5220 - val_accuracy: 0.8783\n",
      "Epoch 60/100\n",
      "15/15 [==============================] - 1s 38ms/step - loss: 0.0149 - accuracy: 0.9943 - val_loss: 0.6021 - val_accuracy: 0.8522\n",
      "Epoch 61/100\n",
      "15/15 [==============================] - 1s 37ms/step - loss: 0.0331 - accuracy: 0.9918 - val_loss: 0.6068 - val_accuracy: 0.8609\n",
      "Epoch 62/100\n",
      "15/15 [==============================] - 1s 47ms/step - loss: 0.0553 - accuracy: 0.9778 - val_loss: 0.4857 - val_accuracy: 0.8522\n",
      "Epoch 63/100\n",
      "15/15 [==============================] - 1s 38ms/step - loss: 0.0593 - accuracy: 0.9661 - val_loss: 0.3911 - val_accuracy: 0.8609\n",
      "Epoch 64/100\n",
      "15/15 [==============================] - 1s 37ms/step - loss: 0.0257 - accuracy: 0.9967 - val_loss: 0.4659 - val_accuracy: 0.9043\n",
      "Epoch 65/100\n",
      "15/15 [==============================] - 1s 39ms/step - loss: 0.0180 - accuracy: 0.9963 - val_loss: 0.5036 - val_accuracy: 0.8783\n",
      "Epoch 66/100\n",
      "15/15 [==============================] - 1s 36ms/step - loss: 0.0121 - accuracy: 0.9991 - val_loss: 0.6336 - val_accuracy: 0.8957\n",
      "Epoch 67/100\n",
      "15/15 [==============================] - 1s 40ms/step - loss: 0.0165 - accuracy: 0.9994 - val_loss: 0.5385 - val_accuracy: 0.9043\n",
      "Epoch 68/100\n",
      "15/15 [==============================] - 1s 36ms/step - loss: 0.0132 - accuracy: 0.9970 - val_loss: 0.6131 - val_accuracy: 0.8870\n",
      "Epoch 69/100\n",
      "15/15 [==============================] - 1s 38ms/step - loss: 0.0139 - accuracy: 0.9897 - val_loss: 0.5969 - val_accuracy: 0.8870\n",
      "Epoch 70/100\n",
      "15/15 [==============================] - 1s 36ms/step - loss: 0.0108 - accuracy: 0.9991 - val_loss: 0.5901 - val_accuracy: 0.8783\n",
      "Epoch 71/100\n",
      "15/15 [==============================] - 1s 41ms/step - loss: 0.0141 - accuracy: 0.9989 - val_loss: 0.6118 - val_accuracy: 0.8870\n",
      "Epoch 72/100\n",
      "15/15 [==============================] - 1s 43ms/step - loss: 0.0109 - accuracy: 0.9983 - val_loss: 0.6204 - val_accuracy: 0.9043\n",
      "Epoch 73/100\n",
      "15/15 [==============================] - 1s 46ms/step - loss: 0.0109 - accuracy: 1.0000 - val_loss: 0.5517 - val_accuracy: 0.9043\n",
      "Epoch 74/100\n",
      "15/15 [==============================] - 1s 36ms/step - loss: 0.0080 - accuracy: 1.0000 - val_loss: 0.5029 - val_accuracy: 0.9043\n",
      "Epoch 75/100\n",
      "15/15 [==============================] - 1s 42ms/step - loss: 0.0092 - accuracy: 0.9989 - val_loss: 0.6474 - val_accuracy: 0.8870\n",
      "Epoch 76/100\n",
      "15/15 [==============================] - 1s 39ms/step - loss: 0.0169 - accuracy: 0.9915 - val_loss: 0.5685 - val_accuracy: 0.8957\n",
      "Epoch 77/100\n",
      "15/15 [==============================] - 1s 43ms/step - loss: 0.0140 - accuracy: 0.9962 - val_loss: 0.6003 - val_accuracy: 0.9043\n",
      "Epoch 78/100\n",
      "15/15 [==============================] - 1s 43ms/step - loss: 0.0115 - accuracy: 0.9971 - val_loss: 0.4388 - val_accuracy: 0.9130\n",
      "Epoch 79/100\n",
      "15/15 [==============================] - 1s 42ms/step - loss: 0.0275 - accuracy: 0.9897 - val_loss: 0.6343 - val_accuracy: 0.8957\n",
      "Epoch 80/100\n",
      "15/15 [==============================] - 1s 43ms/step - loss: 0.0170 - accuracy: 0.9934 - val_loss: 0.5504 - val_accuracy: 0.9217\n",
      "Epoch 81/100\n",
      "15/15 [==============================] - 1s 40ms/step - loss: 0.0133 - accuracy: 0.9944 - val_loss: 0.7534 - val_accuracy: 0.8783\n",
      "Epoch 82/100\n",
      "15/15 [==============================] - 1s 39ms/step - loss: 0.0106 - accuracy: 0.9967 - val_loss: 0.7166 - val_accuracy: 0.8609\n",
      "Epoch 83/100\n",
      "15/15 [==============================] - 1s 38ms/step - loss: 0.0166 - accuracy: 0.9974 - val_loss: 0.6887 - val_accuracy: 0.8957\n",
      "Epoch 84/100\n",
      "15/15 [==============================] - 1s 36ms/step - loss: 0.0124 - accuracy: 0.9965 - val_loss: 0.7886 - val_accuracy: 0.8957\n",
      "Epoch 85/100\n",
      "15/15 [==============================] - 1s 41ms/step - loss: 0.0210 - accuracy: 0.9918 - val_loss: 0.6051 - val_accuracy: 0.9043\n",
      "Epoch 86/100\n",
      "15/15 [==============================] - 1s 37ms/step - loss: 0.0133 - accuracy: 0.9980 - val_loss: 0.9296 - val_accuracy: 0.8696\n",
      "Epoch 87/100\n",
      "15/15 [==============================] - 1s 39ms/step - loss: 0.0156 - accuracy: 0.9963 - val_loss: 0.6445 - val_accuracy: 0.9043\n",
      "Epoch 88/100\n",
      "15/15 [==============================] - 1s 39ms/step - loss: 0.0086 - accuracy: 0.9982 - val_loss: 0.7270 - val_accuracy: 0.8870\n",
      "Epoch 89/100\n",
      "15/15 [==============================] - 1s 40ms/step - loss: 0.0146 - accuracy: 0.9931 - val_loss: 0.8676 - val_accuracy: 0.8783\n",
      "Epoch 90/100\n",
      "15/15 [==============================] - 1s 39ms/step - loss: 0.0140 - accuracy: 0.9970 - val_loss: 0.6369 - val_accuracy: 0.8870\n",
      "Epoch 91/100\n",
      "15/15 [==============================] - 1s 38ms/step - loss: 0.0202 - accuracy: 0.9922 - val_loss: 0.7381 - val_accuracy: 0.8783\n",
      "Epoch 92/100\n",
      "15/15 [==============================] - 1s 38ms/step - loss: 0.0166 - accuracy: 0.9957 - val_loss: 0.6727 - val_accuracy: 0.8957\n",
      "Epoch 93/100\n",
      "15/15 [==============================] - 1s 37ms/step - loss: 0.0052 - accuracy: 1.0000 - val_loss: 0.6514 - val_accuracy: 0.8957\n",
      "Epoch 94/100\n",
      "15/15 [==============================] - 1s 39ms/step - loss: 0.0048 - accuracy: 1.0000 - val_loss: 0.7456 - val_accuracy: 0.8783\n",
      "Epoch 95/100\n",
      "15/15 [==============================] - 1s 39ms/step - loss: 0.0165 - accuracy: 0.9965 - val_loss: 0.6575 - val_accuracy: 0.8870\n",
      "Epoch 96/100\n",
      "15/15 [==============================] - 1s 40ms/step - loss: 0.0137 - accuracy: 0.9953 - val_loss: 0.6992 - val_accuracy: 0.8957\n",
      "Epoch 97/100\n",
      "15/15 [==============================] - 1s 39ms/step - loss: 0.0149 - accuracy: 0.9928 - val_loss: 0.6738 - val_accuracy: 0.9043\n",
      "Epoch 98/100\n",
      "15/15 [==============================] - 1s 38ms/step - loss: 0.0062 - accuracy: 0.9982 - val_loss: 0.6176 - val_accuracy: 0.8870\n",
      "Epoch 99/100\n",
      "15/15 [==============================] - 1s 38ms/step - loss: 0.0072 - accuracy: 0.9978 - val_loss: 0.6120 - val_accuracy: 0.8783\n",
      "Epoch 100/100\n",
      "15/15 [==============================] - 1s 42ms/step - loss: 0.0128 - accuracy: 0.9989 - val_loss: 0.5875 - val_accuracy: 0.8870\n"
     ]
    }
   ],
   "source": [
    "# fitting the model\n",
    "history=model.fit(X_train,y_train,validation_data=(X_validation,y_validation),batch_size=32,epochs=100)"
   ]
  },
  {
   "cell_type": "code",
   "execution_count": 20,
   "metadata": {},
   "outputs": [
    {
     "name": "stdout",
     "output_type": "stream",
     "text": [
      "Model: \"sequential\"\n",
      "_________________________________________________________________\n",
      "Layer (type)                 Output Shape              Param #   \n",
      "=================================================================\n",
      "conv2d (Conv2D)              (None, 128, 11, 8)        80        \n",
      "_________________________________________________________________\n",
      "max_pooling2d (MaxPooling2D) (None, 64, 6, 8)          0         \n",
      "_________________________________________________________________\n",
      "batch_normalization (BatchNo (None, 64, 6, 8)          32        \n",
      "_________________________________________________________________\n",
      "flatten (Flatten)            (None, 3072)              0         \n",
      "_________________________________________________________________\n",
      "dense (Dense)                (None, 64)                196672    \n",
      "_________________________________________________________________\n",
      "dropout (Dropout)            (None, 64)                0         \n",
      "_________________________________________________________________\n",
      "dense_1 (Dense)              (None, 3)                 195       \n",
      "=================================================================\n",
      "Total params: 196,979\n",
      "Trainable params: 196,963\n",
      "Non-trainable params: 16\n",
      "_________________________________________________________________\n"
     ]
    }
   ],
   "source": [
    "model.summary()"
   ]
  },
  {
   "cell_type": "code",
   "execution_count": 21,
   "metadata": {},
   "outputs": [],
   "source": [
    "import pandas as pd\n",
    "pd.DataFrame(history.history[\"accuracy\"]).to_csv('CNN_train_acc.csv')\n",
    "pd.DataFrame(history.history[\"val_accuracy\"]).to_csv('CNN_val_acc.csv')"
   ]
  },
  {
   "cell_type": "code",
   "execution_count": 22,
   "metadata": {},
   "outputs": [
    {
     "name": "stdout",
     "output_type": "stream",
     "text": [
      "5/5 [==============================] - 0s 20ms/step - loss: 0.1138 - accuracy: 0.9722\n"
     ]
    },
    {
     "data": {
      "text/plain": [
       "(0.11378681659698486, 0.9722222089767456)"
      ]
     },
     "execution_count": 22,
     "metadata": {},
     "output_type": "execute_result"
    }
   ],
   "source": [
    "#Evaluating the model\n",
    "test_error,test_accuracy = model.evaluate(X_test,y_test,verbose=1)\n",
    "test_error,test_accuracy"
   ]
  },
  {
   "cell_type": "code",
   "execution_count": 34,
   "metadata": {},
   "outputs": [],
   "source": [
    "#model.save('CNN_model_calm_happy_angry.h5')"
   ]
  },
  {
   "cell_type": "code",
   "execution_count": 24,
   "metadata": {},
   "outputs": [],
   "source": [
    "def plot_history(history):\n",
    "    fig, axs = plt.subplots(2,figsize=(12,8))\n",
    "    \n",
    "    #create the accuracy subplot\n",
    "    axs[0].plot(history.history[\"accuracy\"],label=\"train accuracy\")\n",
    "    axs[0].plot(history.history[\"val_accuracy\"],label=\"test accuracy\")\n",
    "    axs[0].set_ylabel(\"Accuracy\")\n",
    "    axs[0].legend(loc=\"lower right\")\n",
    "    axs[0].set_title(\"Accuracy eval\")\n",
    "    \n",
    "    #create the error subplot\n",
    "    axs[1].plot(history.history[\"loss\"],label=\"train error\")\n",
    "    axs[1].plot(history.history[\"val_loss\"],label=\"test error\")\n",
    "    axs[1].set_ylabel(\"Error\")\n",
    "    axs[1].set_xlabel(\"Epoch\")\n",
    "    axs[1].legend(loc=\"upper right\")\n",
    "    axs[1].set_title(\"Error eval\")\n",
    "    \n",
    "    plt.show()   \n",
    "    "
   ]
  },
  {
   "cell_type": "code",
   "execution_count": 25,
   "metadata": {},
   "outputs": [
    {
     "data": {
      "image/png": "[encoded data removed]",
      "text/plain": [
       "<Figure size 864x576 with 2 Axes>"
      ]
     },
     "metadata": {
      "needs_background": "light"
     },
     "output_type": "display_data"
    }
   ],
   "source": [
    "plot_history(history)"
   ]
  },
  {
   "cell_type": "markdown",
   "metadata": {},
   "source": [
    "## Evaluating the model performance"
   ]
  },
  {
   "cell_type": "code",
   "execution_count": 26,
   "metadata": {},
   "outputs": [],
   "source": [
    "def predict(model,X):\n",
    "    #X = X[np.newaxis,...] #size of X (1,130,13,1) [Conversion to be done if entering one value],\n",
    "    prediction = model.predict(X) #prediction contains 3 values - probability for each genre [[0.1, 0.2, ..]],\n",
    "    #print(prediction),\n",
    "    #extract index with max value,\n",
    "    predicted_index = np.argmax(prediction,axis=1)\n",
    "    return predicted_index"
   ]
  },
  {
   "cell_type": "code",
   "execution_count": 28,
   "metadata": {},
   "outputs": [],
   "source": [
    "y_pred = predict(model,X_test)"
   ]
  },
  {
   "cell_type": "code",
   "execution_count": 29,
   "metadata": {},
   "outputs": [
    {
     "data": {
      "text/plain": [
       "array([[42,  0,  0],\n",
       "       [ 1, 49,  1],\n",
       "       [ 1,  1, 49]], dtype=int64)"
      ]
     },
     "execution_count": 29,
     "metadata": {},
     "output_type": "execute_result"
    }
   ],
   "source": [
    "confusion_matrix(y_test,y_pred)"
   ]
  },
  {
   "cell_type": "code",
   "execution_count": 30,
   "metadata": {},
   "outputs": [],
   "source": [
    "y_train_pred = predict(model,X_train)"
   ]
  },
  {
   "cell_type": "code",
   "execution_count": 31,
   "metadata": {},
   "outputs": [],
   "source": [
    "y_validation_pred = predict(model,X_validation)"
   ]
  },
  {
   "cell_type": "code",
   "execution_count": 32,
   "metadata": {},
   "outputs": [
    {
     "data": {
      "text/plain": [
       "array([[153,   0,   0],\n",
       "       [  0, 158,   0],\n",
       "       [  0,   0, 149]], dtype=int64)"
      ]
     },
     "execution_count": 32,
     "metadata": {},
     "output_type": "execute_result"
    }
   ],
   "source": [
    "confusion_matrix(y_train,y_train_pred)"
   ]
  },
  {
   "cell_type": "code",
   "execution_count": 33,
   "metadata": {},
   "outputs": [
    {
     "data": {
      "text/plain": [
       "array([[38,  0,  0],\n",
       "       [ 5, 26,  3],\n",
       "       [ 2,  3, 38]], dtype=int64)"
      ]
     },
     "execution_count": 33,
     "metadata": {},
     "output_type": "execute_result"
    }
   ],
   "source": [
    "confusion_matrix(y_validation,y_validation_pred)"
   ]
  },
  {
   "cell_type": "code",
   "execution_count": null,
   "metadata": {},
   "outputs": [],
   "source": [
    "# Emotions : calm : 0,happy : 1,angry : 2"
   ]
  }
 ],
 "metadata": {
  "kernelspec": {
   "display_name": "Python [conda env:deep_learning]",
   "language": "python",
   "name": "conda-env-deep_learning-py"
  },
  "language_info": {
   "codemirror_mode": {
    "name": "ipython",
    "version": 3
   },
   "file_extension": ".py",
   "mimetype": "text/x-python",
   "name": "python",
   "nbconvert_exporter": "python",
   "pygments_lexer": "ipython3",
   "version": "3.6.12"
  }
 },
 "nbformat": 4,
 "nbformat_minor": 4
}
