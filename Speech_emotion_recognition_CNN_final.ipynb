{
 "cells": [
  {
   "cell_type": "markdown",
   "metadata": {},
   "source": [
    "## CNN (Convoluted Neural Networks)"
   ]
  },
  {
   "cell_type": "markdown",
   "metadata": {},
   "source": [
    "* CNN emualates human visiob system \n",
    "* components to extract different features\n",
    "* Image data is structured : edges,shapes,translation invariance,scale invariance\n",
    "* Convolution (kernel/filter - grid of weights) & Pooling\n",
    "* Architectural decisions for convolution - Grid size(kernel size-usually 3x3x3,5x5x5), Stride(step size user for sliding kernel on image-usually by 1 pixel), Depth(greyscale=1,colorimage=3) and no. of kernels (no.of outputs from convolutional layer is as many 2d arrays as the no.of kernels)\n",
    "* Pooling - downsampling\n"
   ]
  },
  {
   "cell_type": "markdown",
   "metadata": {},
   "source": [
    "#### How do I apply CNN to audio?"
   ]
  },
  {
   "cell_type": "markdown",
   "metadata": {},
   "source": [
    "* Audio can be thought of an image > Spectogram/MFCC = image\n",
    "* time frequency = x,y\n",
    "* amplitude = pixel value\n",
    "* 13 MFCCs, hop_length=512 # samples in audio file = 51200, Data shape = 100 x 13x 1\n",
    "* Audio data can be compared to grey scale image, depth=1"
   ]
  },
  {
   "cell_type": "code",
   "execution_count": 1,
   "metadata": {},
   "outputs": [],
   "source": [
    "import os\n",
    "import librosa\n",
    "import math\n",
    "import json\n",
    "import numpy as np\n",
    "from sklearn.model_selection import train_test_split\n",
    "import os\n",
    "os.environ[\"CUDA_VISIBLE_DEVICES\"]=\"-1\"\n",
    "import tensorflow as tf\n",
    "import matplotlib.pyplot as plt\n",
    "import visualkeras"
   ]
  },
  {
   "cell_type": "code",
   "execution_count": 2,
   "metadata": {},
   "outputs": [],
   "source": [
    "# loading mfcc data\n",
    "def load_data(dataset_path):\n",
    "    with open(dataset_path,'r') as fp:\n",
    "        data = json.load(fp)\n",
    "        \n",
    "    #convert lists to numpy arrays\n",
    "    inputs = np.array(data[\"mfcc\"])\n",
    "    targets = np.array(data[\"labels\"])\n",
    "    \n",
    "    return inputs,targets"
   ]
  },
  {
   "cell_type": "code",
   "execution_count": 3,
   "metadata": {},
   "outputs": [],
   "source": [
    "JSON_PATH = \"./outputs/ravdess_complete.json\""
   ]
  },
  {
   "cell_type": "code",
   "execution_count": 4,
   "metadata": {},
   "outputs": [],
   "source": [
    "# load the data\n",
    "X,y = load_data(JSON_PATH)"
   ]
  },
  {
   "cell_type": "code",
   "execution_count": 5,
   "metadata": {},
   "outputs": [
    {
     "data": {
      "text/plain": [
       "((1438, 130, 13), (1438,))"
      ]
     },
     "execution_count": 5,
     "metadata": {},
     "output_type": "execute_result"
    }
   ],
   "source": [
    "X.shape,y.shape"
   ]
  },
  {
   "cell_type": "code",
   "execution_count": 6,
   "metadata": {},
   "outputs": [],
   "source": [
    "#Emotion (0 = neutral, 1 = calm, 2 = happy, 3 = sad, 4 = angry, 5 = fearful, 6 = disgust, 7 = surprised)\n",
    "# selecting only calm,happy,angry \n",
    "\n",
    "X = X[(y!=0)]\n",
    "y = y[(y!=0)]\n",
    "X = X[(y!=3)]\n",
    "y = y[(y!=3)]\n",
    "X = X[(y<=4)]\n",
    "y = y[(y<=4)]\n"
   ]
  },
  {
   "cell_type": "code",
   "execution_count": 7,
   "metadata": {},
   "outputs": [],
   "source": [
    "# So I have now 2,3 and 4 in the training > it needs to be 0,1,2\n",
    "y = np.where(y==1, 0, y)"
   ]
  },
  {
   "cell_type": "code",
   "execution_count": 8,
   "metadata": {},
   "outputs": [],
   "source": [
    "y = np.where(y==2, 1, y)"
   ]
  },
  {
   "cell_type": "code",
   "execution_count": 9,
   "metadata": {},
   "outputs": [],
   "source": [
    "y = np.where(y==4, 2, y)"
   ]
  },
  {
   "cell_type": "code",
   "execution_count": 10,
   "metadata": {},
   "outputs": [
    {
     "data": {
      "text/plain": [
       "2"
      ]
     },
     "execution_count": 10,
     "metadata": {},
     "output_type": "execute_result"
    }
   ],
   "source": [
    "y.max()"
   ]
  },
  {
   "cell_type": "code",
   "execution_count": 11,
   "metadata": {},
   "outputs": [
    {
     "data": {
      "text/plain": [
       "((575,), (575, 130, 13))"
      ]
     },
     "execution_count": 11,
     "metadata": {},
     "output_type": "execute_result"
    }
   ],
   "source": [
    "y.shape, X.shape"
   ]
  },
  {
   "cell_type": "code",
   "execution_count": 12,
   "metadata": {},
   "outputs": [],
   "source": [
    "# shape of each input entry : (number of samples per second/hop_length)*duration"
   ]
  },
  {
   "cell_type": "code",
   "execution_count": 13,
   "metadata": {},
   "outputs": [],
   "source": [
    "def prepare_data(X,y,test_size,validation_size):\n",
    "    \n",
    "    # splitting data into train and test set\n",
    "    X_train,X_test,y_train,y_test = train_test_split(X,y,test_size=test_size)\n",
    "    \n",
    "    # splitting data into train and validation set\n",
    "    X_train,X_validation,y_train,y_validation = train_test_split(X,y,test_size=validation_size)\n",
    "    \n",
    "    # add extra dimension , as sound files are treated like greyscale images\n",
    "    X_train = X_train[...,np.newaxis] #4d array num_samples x 130 x 13 x 1\n",
    "    X_test = X_test[...,np.newaxis]\n",
    "    X_validation = X_validation[...,np.newaxis]\n",
    "    return X_train,X_validation,X_test,y_train,y_validation,y_test"
   ]
  },
  {
   "cell_type": "code",
   "execution_count": 14,
   "metadata": {},
   "outputs": [],
   "source": [
    "# splitting data into train,validation and test set\n",
    "X_train,X_validation,X_test,y_train,y_validation,y_test = prepare_data(X,y,test_size=0.25,validation_size=0.2)"
   ]
  },
  {
   "cell_type": "code",
   "execution_count": 15,
   "metadata": {},
   "outputs": [
    {
     "data": {
      "text/plain": [
       "(460, 130, 13, 1)"
      ]
     },
     "execution_count": 15,
     "metadata": {},
     "output_type": "execute_result"
    }
   ],
   "source": [
    "X_train.shape"
   ]
  },
  {
   "cell_type": "code",
   "execution_count": 16,
   "metadata": {},
   "outputs": [],
   "source": [
    "def build_model(input_shape):\n",
    "    #create model\n",
    "    model = tf.keras.Sequential()\n",
    "    #model.add(tf.keras.layers.BatchNormalization())\n",
    "    \n",
    "    #1st conv layer\n",
    "    model.add(tf.keras.layers.Conv2D(8,(3,3),activation=\"relu\",input_shape=input_shape))\n",
    "    model.add(tf.keras.layers.MaxPool2D((3,3),strides=(2,2),padding='same'))\n",
    "    model.add(tf.keras.layers.BatchNormalization())\n",
    "    \n",
    "    #2nd conv layer\n",
    "    #model.add(tf.keras.layers.Conv2D(32,(3,3),activation=\"relu\",input_shape=input_shape))\n",
    "    #model.add(tf.keras.layers.MaxPool2D((3,3),strides=(2,2),padding='same'))\n",
    "    #model.add(tf.keras.layers.BatchNormalization())\n",
    "\n",
    "    #3rd conv layer\n",
    "    #model.add(tf.keras.layers.Conv2D(32,(2,2),activation=\"relu\",input_shape=input_shape))\n",
    "    #model.add(tf.keras.layers.MaxPool2D((2,2),strides=(2,2),padding='same'))\n",
    "    #model.add(tf.keras.layers.BatchNormalization())\n",
    "    \n",
    "    #flatten and feed to dense layer\n",
    "    model.add(tf.keras.layers.Flatten())\n",
    "    #model.add(tf.keras.layers.InputLayer(input_shape=(3072,)))\n",
    "    model.add(tf.keras.layers.Dense(64,activation=\"relu\",input_shape=(3072,)))\n",
    "    model.add(tf.keras.layers.Dropout(0.3))\n",
    "    \n",
    "    #output layer that feeds to softmax\n",
    "    model.add(tf.keras.layers.Dense(3,activation=\"softmax\"))\n",
    "    \n",
    "    return model\n",
    "    "
   ]
  },
  {
   "cell_type": "code",
   "execution_count": 17,
   "metadata": {},
   "outputs": [],
   "source": [
    "# building the CNN\n",
    "input_shape = (X_train.shape[1],X_train.shape[2],X_train.shape[3])\n",
    "\n",
    "model = build_model(input_shape)\n",
    "\n",
    "model.compile(optimizer = tf.keras.optimizers.Adam(),loss=\"sparse_categorical_crossentropy\",metrics=[\"accuracy\"])\n"
   ]
  },
  {
   "cell_type": "code",
   "execution_count": 18,
   "metadata": {},
   "outputs": [
    {
     "name": "stdout",
     "output_type": "stream",
     "text": [
      "Epoch 1/100\n",
      "15/15 [==============================] - 3s 108ms/step - loss: 1.5247 - accuracy: 0.4639 - val_loss: 1.0708 - val_accuracy: 0.6783\n",
      "Epoch 2/100\n",
      "15/15 [==============================] - 1s 44ms/step - loss: 0.7577 - accuracy: 0.6947 - val_loss: 1.0526 - val_accuracy: 0.6783\n",
      "Epoch 3/100\n",
      "15/15 [==============================] - 1s 44ms/step - loss: 0.5787 - accuracy: 0.7486 - val_loss: 0.8150 - val_accuracy: 0.6957\n",
      "Epoch 4/100\n",
      "15/15 [==============================] - 1s 44ms/step - loss: 0.4675 - accuracy: 0.8420 - val_loss: 0.9688 - val_accuracy: 0.6261\n",
      "Epoch 5/100\n",
      "15/15 [==============================] - 1s 40ms/step - loss: 0.4169 - accuracy: 0.8430 - val_loss: 0.8765 - val_accuracy: 0.6435\n",
      "Epoch 6/100\n",
      "15/15 [==============================] - 1s 43ms/step - loss: 0.3652 - accuracy: 0.8519 - val_loss: 0.8216 - val_accuracy: 0.6435\n",
      "Epoch 7/100\n",
      "15/15 [==============================] - 1s 49ms/step - loss: 0.3490 - accuracy: 0.8692 - val_loss: 0.6718 - val_accuracy: 0.7391\n",
      "Epoch 8/100\n",
      "15/15 [==============================] - 1s 46ms/step - loss: 0.3075 - accuracy: 0.8885 - val_loss: 0.6164 - val_accuracy: 0.7478\n",
      "Epoch 9/100\n",
      "15/15 [==============================] - 1s 51ms/step - loss: 0.2802 - accuracy: 0.9020 - val_loss: 0.4953 - val_accuracy: 0.7826\n",
      "Epoch 10/100\n",
      "15/15 [==============================] - 1s 42ms/step - loss: 0.2080 - accuracy: 0.9313 - val_loss: 0.6121 - val_accuracy: 0.7130\n",
      "Epoch 11/100\n",
      "15/15 [==============================] - 1s 54ms/step - loss: 0.2301 - accuracy: 0.9292 - val_loss: 0.4371 - val_accuracy: 0.8087\n",
      "Epoch 12/100\n",
      "15/15 [==============================] - 1s 59ms/step - loss: 0.2058 - accuracy: 0.9329 - val_loss: 0.3934 - val_accuracy: 0.8348\n",
      "Epoch 13/100\n",
      "15/15 [==============================] - 1s 45ms/step - loss: 0.2043 - accuracy: 0.9261 - val_loss: 0.4815 - val_accuracy: 0.8087\n",
      "Epoch 14/100\n",
      "15/15 [==============================] - 1s 42ms/step - loss: 0.1433 - accuracy: 0.9425 - val_loss: 0.4396 - val_accuracy: 0.8435\n",
      "Epoch 15/100\n",
      "15/15 [==============================] - 1s 44ms/step - loss: 0.1442 - accuracy: 0.9584 - val_loss: 0.4495 - val_accuracy: 0.8087\n",
      "Epoch 16/100\n",
      "15/15 [==============================] - 1s 52ms/step - loss: 0.1601 - accuracy: 0.9425 - val_loss: 0.4288 - val_accuracy: 0.8348\n",
      "Epoch 17/100\n",
      "15/15 [==============================] - 1s 58ms/step - loss: 0.1475 - accuracy: 0.9390 - val_loss: 0.4378 - val_accuracy: 0.8174\n",
      "Epoch 18/100\n",
      "15/15 [==============================] - 1s 48ms/step - loss: 0.1471 - accuracy: 0.9413 - val_loss: 0.4794 - val_accuracy: 0.8000\n",
      "Epoch 19/100\n",
      "15/15 [==============================] - 1s 44ms/step - loss: 0.0939 - accuracy: 0.9842 - val_loss: 0.4532 - val_accuracy: 0.8435\n",
      "Epoch 20/100\n",
      "15/15 [==============================] - 1s 46ms/step - loss: 0.0996 - accuracy: 0.9821 - val_loss: 0.5019 - val_accuracy: 0.7826\n",
      "Epoch 21/100\n",
      "15/15 [==============================] - 1s 42ms/step - loss: 0.1422 - accuracy: 0.9514 - val_loss: 0.4366 - val_accuracy: 0.8348\n",
      "Epoch 22/100\n",
      "15/15 [==============================] - 1s 46ms/step - loss: 0.1056 - accuracy: 0.9679 - val_loss: 0.4056 - val_accuracy: 0.8609\n",
      "Epoch 23/100\n",
      "15/15 [==============================] - 1s 44ms/step - loss: 0.0842 - accuracy: 0.9681 - val_loss: 0.4408 - val_accuracy: 0.8609\n",
      "Epoch 24/100\n",
      "15/15 [==============================] - 1s 47ms/step - loss: 0.0882 - accuracy: 0.9917 - val_loss: 0.4603 - val_accuracy: 0.8174\n",
      "Epoch 25/100\n",
      "15/15 [==============================] - 1s 55ms/step - loss: 0.0769 - accuracy: 0.9723 - val_loss: 0.3834 - val_accuracy: 0.8696\n",
      "Epoch 26/100\n",
      "15/15 [==============================] - 1s 52ms/step - loss: 0.0613 - accuracy: 0.9936 - val_loss: 0.4797 - val_accuracy: 0.8435\n",
      "Epoch 27/100\n",
      "15/15 [==============================] - 1s 43ms/step - loss: 0.0671 - accuracy: 0.9802 - val_loss: 0.3951 - val_accuracy: 0.8609\n",
      "Epoch 28/100\n",
      "15/15 [==============================] - 1s 49ms/step - loss: 0.0675 - accuracy: 0.9719 - val_loss: 0.4495 - val_accuracy: 0.8522\n",
      "Epoch 29/100\n",
      "15/15 [==============================] - 1s 46ms/step - loss: 0.0581 - accuracy: 0.9804 - val_loss: 0.4706 - val_accuracy: 0.8696\n",
      "Epoch 30/100\n",
      "15/15 [==============================] - 1s 51ms/step - loss: 0.0401 - accuracy: 0.9895 - val_loss: 0.4463 - val_accuracy: 0.8609\n",
      "Epoch 31/100\n",
      "15/15 [==============================] - 1s 47ms/step - loss: 0.0442 - accuracy: 0.9887 - val_loss: 0.4322 - val_accuracy: 0.8435\n",
      "Epoch 32/100\n",
      "15/15 [==============================] - 1s 47ms/step - loss: 0.0461 - accuracy: 0.9928 - val_loss: 0.4108 - val_accuracy: 0.8609\n",
      "Epoch 33/100\n",
      "15/15 [==============================] - 1s 40ms/step - loss: 0.0377 - accuracy: 0.9876 - val_loss: 0.4608 - val_accuracy: 0.8696\n",
      "Epoch 34/100\n",
      "15/15 [==============================] - 1s 39ms/step - loss: 0.0553 - accuracy: 0.9840 - val_loss: 0.4425 - val_accuracy: 0.8783\n",
      "Epoch 35/100\n",
      "15/15 [==============================] - 1s 61ms/step - loss: 0.0504 - accuracy: 0.9896 - val_loss: 0.4343 - val_accuracy: 0.8609\n",
      "Epoch 36/100\n",
      "15/15 [==============================] - 1s 53ms/step - loss: 0.0313 - accuracy: 0.9940 - val_loss: 0.4905 - val_accuracy: 0.8435\n",
      "Epoch 37/100\n",
      "15/15 [==============================] - 1s 54ms/step - loss: 0.0474 - accuracy: 0.9836 - val_loss: 0.4322 - val_accuracy: 0.8696\n",
      "Epoch 38/100\n",
      "15/15 [==============================] - 1s 75ms/step - loss: 0.0470 - accuracy: 0.9772 - val_loss: 0.4532 - val_accuracy: 0.8609\n",
      "Epoch 39/100\n",
      "15/15 [==============================] - 1s 68ms/step - loss: 0.0410 - accuracy: 0.9909 - val_loss: 0.4354 - val_accuracy: 0.8696\n",
      "Epoch 40/100\n",
      "15/15 [==============================] - 1s 47ms/step - loss: 0.0273 - accuracy: 0.9978 - val_loss: 0.5426 - val_accuracy: 0.8435\n",
      "Epoch 41/100\n",
      "15/15 [==============================] - 1s 53ms/step - loss: 0.0614 - accuracy: 0.9786 - val_loss: 0.4570 - val_accuracy: 0.8696\n",
      "Epoch 42/100\n",
      "15/15 [==============================] - 1s 48ms/step - loss: 0.0537 - accuracy: 0.9779 - val_loss: 0.4797 - val_accuracy: 0.8522\n",
      "Epoch 43/100\n",
      "15/15 [==============================] - 1s 35ms/step - loss: 0.0307 - accuracy: 0.9907 - val_loss: 0.5196 - val_accuracy: 0.8435\n",
      "Epoch 44/100\n",
      "15/15 [==============================] - 1s 38ms/step - loss: 0.0219 - accuracy: 0.9951 - val_loss: 0.4228 - val_accuracy: 0.8609\n",
      "Epoch 45/100\n",
      "15/15 [==============================] - 1s 38ms/step - loss: 0.0274 - accuracy: 0.9937 - val_loss: 0.4410 - val_accuracy: 0.8696\n",
      "Epoch 46/100\n",
      "15/15 [==============================] - 1s 40ms/step - loss: 0.0382 - accuracy: 0.9917 - val_loss: 0.4491 - val_accuracy: 0.8870\n",
      "Epoch 47/100\n",
      "15/15 [==============================] - 1s 36ms/step - loss: 0.0259 - accuracy: 0.9973 - val_loss: 0.5010 - val_accuracy: 0.8609\n",
      "Epoch 48/100\n",
      "15/15 [==============================] - 1s 35ms/step - loss: 0.0306 - accuracy: 0.9946 - val_loss: 0.4740 - val_accuracy: 0.8522\n",
      "Epoch 49/100\n",
      "15/15 [==============================] - 1s 41ms/step - loss: 0.0284 - accuracy: 0.9921 - val_loss: 0.4546 - val_accuracy: 0.8870\n",
      "Epoch 50/100\n",
      "15/15 [==============================] - 1s 43ms/step - loss: 0.0200 - accuracy: 0.9982 - val_loss: 0.4195 - val_accuracy: 0.8783\n",
      "Epoch 51/100\n",
      "15/15 [==============================] - 1s 43ms/step - loss: 0.0200 - accuracy: 0.9923 - val_loss: 0.4271 - val_accuracy: 0.8957\n",
      "Epoch 52/100\n",
      "15/15 [==============================] - 1s 35ms/step - loss: 0.0202 - accuracy: 0.9946 - val_loss: 0.4793 - val_accuracy: 0.8609\n",
      "Epoch 53/100\n",
      "15/15 [==============================] - 1s 39ms/step - loss: 0.0186 - accuracy: 0.9961 - val_loss: 0.4930 - val_accuracy: 0.8870\n",
      "Epoch 54/100\n",
      "15/15 [==============================] - 1s 39ms/step - loss: 0.0274 - accuracy: 0.9912 - val_loss: 0.5783 - val_accuracy: 0.8348\n",
      "Epoch 55/100\n",
      "15/15 [==============================] - 1s 41ms/step - loss: 0.0368 - accuracy: 0.9914 - val_loss: 0.5722 - val_accuracy: 0.8348\n",
      "Epoch 56/100\n",
      "15/15 [==============================] - 1s 38ms/step - loss: 0.0300 - accuracy: 0.9974 - val_loss: 0.4960 - val_accuracy: 0.8522\n",
      "Epoch 57/100\n",
      "15/15 [==============================] - 1s 42ms/step - loss: 0.0202 - accuracy: 0.9941 - val_loss: 0.5038 - val_accuracy: 0.8435\n",
      "Epoch 58/100\n"
     ]
    },
    {
     "name": "stdout",
     "output_type": "stream",
     "text": [
      "15/15 [==============================] - 1s 37ms/step - loss: 0.0251 - accuracy: 0.9917 - val_loss: 0.4572 - val_accuracy: 0.8783\n",
      "Epoch 59/100\n",
      "15/15 [==============================] - 1s 40ms/step - loss: 0.0099 - accuracy: 1.0000 - val_loss: 0.4871 - val_accuracy: 0.8609\n",
      "Epoch 60/100\n",
      "15/15 [==============================] - 1s 51ms/step - loss: 0.0289 - accuracy: 0.9856 - val_loss: 0.4971 - val_accuracy: 0.8435\n",
      "Epoch 61/100\n",
      "15/15 [==============================] - 1s 36ms/step - loss: 0.0173 - accuracy: 0.9970 - val_loss: 0.4408 - val_accuracy: 0.8609\n",
      "Epoch 62/100\n",
      "15/15 [==============================] - 1s 37ms/step - loss: 0.0149 - accuracy: 0.9974 - val_loss: 0.5029 - val_accuracy: 0.8609\n",
      "Epoch 63/100\n",
      "15/15 [==============================] - 1s 38ms/step - loss: 0.0129 - accuracy: 0.9942 - val_loss: 0.5782 - val_accuracy: 0.8609\n",
      "Epoch 64/100\n",
      "15/15 [==============================] - 1s 46ms/step - loss: 0.0298 - accuracy: 0.9843 - val_loss: 0.6542 - val_accuracy: 0.8609\n",
      "Epoch 65/100\n",
      "15/15 [==============================] - 1s 45ms/step - loss: 0.0133 - accuracy: 0.9987 - val_loss: 0.6074 - val_accuracy: 0.8174\n",
      "Epoch 66/100\n",
      "15/15 [==============================] - 1s 42ms/step - loss: 0.0256 - accuracy: 0.9944 - val_loss: 0.4760 - val_accuracy: 0.8783\n",
      "Epoch 67/100\n",
      "15/15 [==============================] - 1s 41ms/step - loss: 0.0257 - accuracy: 0.9867 - val_loss: 0.7113 - val_accuracy: 0.8261\n",
      "Epoch 68/100\n",
      "15/15 [==============================] - 1s 39ms/step - loss: 0.0187 - accuracy: 0.9955 - val_loss: 0.5536 - val_accuracy: 0.8522\n",
      "Epoch 69/100\n",
      "15/15 [==============================] - 1s 43ms/step - loss: 0.0269 - accuracy: 0.9861 - val_loss: 0.6859 - val_accuracy: 0.8435\n",
      "Epoch 70/100\n",
      "15/15 [==============================] - 1s 35ms/step - loss: 0.0189 - accuracy: 0.9978 - val_loss: 0.6096 - val_accuracy: 0.8522\n",
      "Epoch 71/100\n",
      "15/15 [==============================] - 1s 35ms/step - loss: 0.0187 - accuracy: 0.9963 - val_loss: 0.6800 - val_accuracy: 0.8348\n",
      "Epoch 72/100\n",
      "15/15 [==============================] - 1s 41ms/step - loss: 0.0245 - accuracy: 0.9951 - val_loss: 0.6969 - val_accuracy: 0.8348\n",
      "Epoch 73/100\n",
      "15/15 [==============================] - 1s 38ms/step - loss: 0.0224 - accuracy: 0.9903 - val_loss: 0.6074 - val_accuracy: 0.8522\n",
      "Epoch 74/100\n",
      "15/15 [==============================] - 1s 39ms/step - loss: 0.0323 - accuracy: 0.9906 - val_loss: 0.5655 - val_accuracy: 0.8609\n",
      "Epoch 75/100\n",
      "15/15 [==============================] - 1s 34ms/step - loss: 0.0426 - accuracy: 0.9877 - val_loss: 0.7005 - val_accuracy: 0.8348\n",
      "Epoch 76/100\n",
      "15/15 [==============================] - 1s 38ms/step - loss: 0.0421 - accuracy: 0.9913 - val_loss: 0.8066 - val_accuracy: 0.8348\n",
      "Epoch 77/100\n",
      "15/15 [==============================] - 1s 51ms/step - loss: 0.0534 - accuracy: 0.9780 - val_loss: 0.5639 - val_accuracy: 0.8522\n",
      "Epoch 78/100\n",
      "15/15 [==============================] - 1s 54ms/step - loss: 0.0390 - accuracy: 0.9873 - val_loss: 0.5330 - val_accuracy: 0.8522\n",
      "Epoch 79/100\n",
      "15/15 [==============================] - 1s 45ms/step - loss: 0.0198 - accuracy: 0.9917 - val_loss: 0.5266 - val_accuracy: 0.8696\n",
      "Epoch 80/100\n",
      "15/15 [==============================] - 1s 38ms/step - loss: 0.0145 - accuracy: 0.9927 - val_loss: 0.6877 - val_accuracy: 0.8435\n",
      "Epoch 81/100\n",
      "15/15 [==============================] - 1s 37ms/step - loss: 0.0209 - accuracy: 0.9871 - val_loss: 0.5211 - val_accuracy: 0.8522\n",
      "Epoch 82/100\n",
      "15/15 [==============================] - 1s 44ms/step - loss: 0.0146 - accuracy: 0.9949 - val_loss: 0.6858 - val_accuracy: 0.8348\n",
      "Epoch 83/100\n",
      "15/15 [==============================] - 1s 41ms/step - loss: 0.0122 - accuracy: 0.9979 - val_loss: 0.6582 - val_accuracy: 0.8609\n",
      "Epoch 84/100\n",
      "15/15 [==============================] - 1s 38ms/step - loss: 0.0184 - accuracy: 0.9927 - val_loss: 0.6483 - val_accuracy: 0.8435\n",
      "Epoch 85/100\n",
      "15/15 [==============================] - 1s 39ms/step - loss: 0.0150 - accuracy: 0.9951 - val_loss: 0.7104 - val_accuracy: 0.8609\n",
      "Epoch 86/100\n",
      "15/15 [==============================] - 1s 38ms/step - loss: 0.0173 - accuracy: 0.9953 - val_loss: 0.5997 - val_accuracy: 0.8609\n",
      "Epoch 87/100\n",
      "15/15 [==============================] - 1s 40ms/step - loss: 0.0178 - accuracy: 0.9951 - val_loss: 0.6533 - val_accuracy: 0.8261\n",
      "Epoch 88/100\n",
      "15/15 [==============================] - 1s 41ms/step - loss: 0.0147 - accuracy: 0.9994 - val_loss: 0.5246 - val_accuracy: 0.8609\n",
      "Epoch 89/100\n",
      "15/15 [==============================] - 1s 36ms/step - loss: 0.0189 - accuracy: 0.9879 - val_loss: 0.6914 - val_accuracy: 0.8522\n",
      "Epoch 90/100\n",
      "15/15 [==============================] - 1s 39ms/step - loss: 0.0208 - accuracy: 0.9886 - val_loss: 0.6500 - val_accuracy: 0.8609\n",
      "Epoch 91/100\n",
      "15/15 [==============================] - 1s 38ms/step - loss: 0.0159 - accuracy: 0.9930 - val_loss: 0.6711 - val_accuracy: 0.8609\n",
      "Epoch 92/100\n",
      "15/15 [==============================] - 1s 60ms/step - loss: 0.0090 - accuracy: 0.9974 - val_loss: 0.6088 - val_accuracy: 0.8522\n",
      "Epoch 93/100\n",
      "15/15 [==============================] - 1s 49ms/step - loss: 0.0206 - accuracy: 0.9857 - val_loss: 0.8298 - val_accuracy: 0.8000\n",
      "Epoch 94/100\n",
      "15/15 [==============================] - 1s 40ms/step - loss: 0.0170 - accuracy: 0.9940 - val_loss: 0.6206 - val_accuracy: 0.8696\n",
      "Epoch 95/100\n",
      "15/15 [==============================] - 1s 37ms/step - loss: 0.0133 - accuracy: 0.9952 - val_loss: 0.6263 - val_accuracy: 0.8609\n",
      "Epoch 96/100\n",
      "15/15 [==============================] - 1s 40ms/step - loss: 0.0074 - accuracy: 1.0000 - val_loss: 0.7249 - val_accuracy: 0.8609\n",
      "Epoch 97/100\n",
      "15/15 [==============================] - 1s 37ms/step - loss: 0.0061 - accuracy: 0.9982 - val_loss: 0.7372 - val_accuracy: 0.8696\n",
      "Epoch 98/100\n",
      "15/15 [==============================] - 1s 39ms/step - loss: 0.0194 - accuracy: 0.9929 - val_loss: 0.6398 - val_accuracy: 0.8609\n",
      "Epoch 99/100\n",
      "15/15 [==============================] - 1s 35ms/step - loss: 0.0073 - accuracy: 0.9987 - val_loss: 0.6085 - val_accuracy: 0.8522\n",
      "Epoch 100/100\n",
      "15/15 [==============================] - 1s 36ms/step - loss: 0.0040 - accuracy: 1.0000 - val_loss: 0.6056 - val_accuracy: 0.8609\n"
     ]
    }
   ],
   "source": [
    "# fitting the model\n",
    "history=model.fit(X_train,y_train,validation_data=(X_validation,y_validation),batch_size=32,epochs=100)"
   ]
  },
  {
   "cell_type": "code",
   "execution_count": 19,
   "metadata": {},
   "outputs": [
    {
     "name": "stdout",
     "output_type": "stream",
     "text": [
      "Model: \"sequential\"\n",
      "_________________________________________________________________\n",
      "Layer (type)                 Output Shape              Param #   \n",
      "=================================================================\n",
      "conv2d (Conv2D)              (None, 128, 11, 8)        80        \n",
      "_________________________________________________________________\n",
      "max_pooling2d (MaxPooling2D) (None, 64, 6, 8)          0         \n",
      "_________________________________________________________________\n",
      "batch_normalization (BatchNo (None, 64, 6, 8)          32        \n",
      "_________________________________________________________________\n",
      "flatten (Flatten)            (None, 3072)              0         \n",
      "_________________________________________________________________\n",
      "dense (Dense)                (None, 64)                196672    \n",
      "_________________________________________________________________\n",
      "dropout (Dropout)            (None, 64)                0         \n",
      "_________________________________________________________________\n",
      "dense_1 (Dense)              (None, 3)                 195       \n",
      "=================================================================\n",
      "Total params: 196,979\n",
      "Trainable params: 196,963\n",
      "Non-trainable params: 16\n",
      "_________________________________________________________________\n"
     ]
    }
   ],
   "source": [
    "model.summary()"
   ]
  },
  {
   "cell_type": "code",
   "execution_count": 66,
   "metadata": {},
   "outputs": [],
   "source": [
    "import pandas as pd\n",
    "pd.DataFrame(history.history[\"accuracy\"]).to_csv('CNN_train_acc.csv')\n",
    "pd.DataFrame(history.history[\"val_accuracy\"]).to_csv('CNN_val_acc.csv')"
   ]
  },
  {
   "cell_type": "code",
   "execution_count": 20,
   "metadata": {},
   "outputs": [
    {
     "name": "stdout",
     "output_type": "stream",
     "text": [
      "5/5 [==============================] - 0s 16ms/step - loss: 0.0032 - accuracy: 1.0000\n"
     ]
    }
   ],
   "source": [
    "#Evaluating the model\n",
    "test_error,test_accuracy = model.evaluate(X_test,y_test,verbose=1)"
   ]
  },
  {
   "cell_type": "code",
   "execution_count": 21,
   "metadata": {},
   "outputs": [
    {
     "data": {
      "text/plain": [
       "1.0"
      ]
     },
     "execution_count": 21,
     "metadata": {},
     "output_type": "execute_result"
    }
   ],
   "source": [
    "test_accuracy"
   ]
  },
  {
   "cell_type": "code",
   "execution_count": 22,
   "metadata": {},
   "outputs": [],
   "source": [
    "#model.save('mfcc_only_model_calm_happy_angry.h5')"
   ]
  },
  {
   "cell_type": "code",
   "execution_count": 21,
   "metadata": {},
   "outputs": [],
   "source": [
    "def predict(model,X):\n",
    "    #X = X[np.newaxis,...] #size of X (1,130,13,1) [Conversion to be done if entering one value]\n",
    "    prediction = model.predict(X) #prediction contains 3 values - probability for each genre [[0.1, 0.2, ..]]\n",
    "    #print(prediction)\n",
    "    #extract index with max value\n",
    "    predicted_index = np.argmax(prediction,axis=1)\n",
    "    return predicted_index"
   ]
  },
  {
   "cell_type": "code",
   "execution_count": 22,
   "metadata": {},
   "outputs": [],
   "source": [
    "y_pred = predict(model,X_test)"
   ]
  },
  {
   "cell_type": "code",
   "execution_count": 45,
   "metadata": {},
   "outputs": [
    {
     "data": {
      "text/plain": [
       "'happy'"
      ]
     },
     "execution_count": 45,
     "metadata": {},
     "output_type": "execute_result"
    }
   ],
   "source": [
    "#predicting the emotion from external audio\n",
    "my_test_audio,sr =librosa.load('./test_audios/test_audio2.wav',sr=22050)\n",
    "audio_duration = round(librosa.get_duration(my_test_audio),0)\n",
    "std_duration = 3\n",
    "mfcc_test = librosa.feature.mfcc(my_test_audio[:22050*std_duration],sr=22050,n_mfcc=13,n_fft=2048,hop_length=512)\n",
    "mfcc_test = mfcc_test.T\n",
    "mfcc_test = mfcc_test[np.newaxis,...,np.newaxis]\n",
    "y_pred = predict(model,mfcc_test)\n",
    "Emotions = {0:'calm', 1:'happy',2:'angry'}\n",
    "Emotions[y_pred[0]]"
   ]
  },
  {
   "cell_type": "code",
   "execution_count": 26,
   "metadata": {},
   "outputs": [
    {
     "name": "stdout",
     "output_type": "stream",
     "text": [
      "(12, 130)\n"
     ]
    }
   ],
   "source": [
    "#y, sr = librosa.load(librosa.util.example_audio_file())\n",
    "print(librosa.feature.chroma_stft(my_test_audio[:22050*3], sr=22050).shape)"
   ]
  },
  {
   "cell_type": "code",
   "execution_count": 50,
   "metadata": {},
   "outputs": [],
   "source": [
    "def plot_history(history):\n",
    "    fig, axs = plt.subplots(2,figsize=(12,8))\n",
    "    \n",
    "    #create the accuracy subplot\n",
    "    axs[0].plot(history.history[\"accuracy\"],label=\"train accuracy\")\n",
    "    axs[0].plot(history.history[\"val_accuracy\"],label=\"test accuracy\")\n",
    "    axs[0].set_ylabel(\"Accuracy\")\n",
    "    axs[0].legend(loc=\"lower right\")\n",
    "    axs[0].set_title(\"Accuracy eval\")\n",
    "    \n",
    "    #create the error subplot\n",
    "    axs[1].plot(history.history[\"loss\"],label=\"train error\")\n",
    "    axs[1].plot(history.history[\"val_loss\"],label=\"test error\")\n",
    "    axs[1].set_ylabel(\"Error\")\n",
    "    axs[1].set_xlabel(\"Epoch\")\n",
    "    axs[1].legend(loc=\"upper right\")\n",
    "    axs[1].set_title(\"Error eval\")\n",
    "    \n",
    "    plt.show()   \n",
    "    "
   ]
  },
  {
   "cell_type": "code",
   "execution_count": 109,
   "metadata": {},
   "outputs": [
    {
     "data": {
      "image/png": "[encoded data removed]",
      "text/plain": [
       "<Figure size 864x576 with 2 Axes>"
      ]
     },
     "metadata": {
      "needs_background": "light"
     },
     "output_type": "display_data"
    }
   ],
   "source": [
    "plot_history(history)"
   ]
  },
  {
   "cell_type": "code",
   "execution_count": 76,
   "metadata": {},
   "outputs": [
    {
     "data": {
      "text/plain": [
       "0.8571428656578064"
      ]
     },
     "execution_count": 76,
     "metadata": {},
     "output_type": "execute_result"
    }
   ],
   "source": [
    "max(history.history['val_accuracy'])"
   ]
  },
  {
   "cell_type": "code",
   "execution_count": 82,
   "metadata": {},
   "outputs": [],
   "source": [
    "from sklearn.metrics import confusion_matrix"
   ]
  },
  {
   "cell_type": "code",
   "execution_count": 85,
   "metadata": {},
   "outputs": [
    {
     "data": {
      "text/plain": [
       "array([[43,  0],\n",
       "       [ 2, 51]], dtype=int64)"
      ]
     },
     "execution_count": 85,
     "metadata": {},
     "output_type": "execute_result"
    }
   ],
   "source": [
    "confusion_matrix(y_test,y_pred)"
   ]
  },
  {
   "cell_type": "code",
   "execution_count": 86,
   "metadata": {},
   "outputs": [],
   "source": [
    "y_train_pred = predict(model,X_train)"
   ]
  },
  {
   "cell_type": "code",
   "execution_count": 87,
   "metadata": {},
   "outputs": [],
   "source": [
    "y_validation_pred = predict(model,X_validation)"
   ]
  },
  {
   "cell_type": "code",
   "execution_count": 88,
   "metadata": {},
   "outputs": [
    {
     "data": {
      "text/plain": [
       "array([[154,   0],\n",
       "       [  0, 153]], dtype=int64)"
      ]
     },
     "execution_count": 88,
     "metadata": {},
     "output_type": "execute_result"
    }
   ],
   "source": [
    "confusion_matrix(y_train,y_train_pred)"
   ]
  },
  {
   "cell_type": "code",
   "execution_count": 89,
   "metadata": {},
   "outputs": [
    {
     "data": {
      "text/plain": [
       "array([[32,  6],\n",
       "       [ 7, 32]], dtype=int64)"
      ]
     },
     "execution_count": 89,
     "metadata": {},
     "output_type": "execute_result"
    }
   ],
   "source": [
    "confusion_matrix(y_validation,y_validation_pred)"
   ]
  },
  {
   "cell_type": "code",
   "execution_count": 90,
   "metadata": {},
   "outputs": [
    {
     "data": {
      "text/plain": [
       "((307,), (96,), (77,))"
      ]
     },
     "execution_count": 90,
     "metadata": {},
     "output_type": "execute_result"
    }
   ],
   "source": [
    "y_train.shape,y_test.shape,y_validation.shape"
   ]
  },
  {
   "cell_type": "code",
   "execution_count": 91,
   "metadata": {},
   "outputs": [
    {
     "data": {
      "text/plain": [
       "43"
      ]
     },
     "execution_count": 91,
     "metadata": {},
     "output_type": "execute_result"
    }
   ],
   "source": [
    "(y_test==0).sum()"
   ]
  },
  {
   "cell_type": "code",
   "execution_count": 54,
   "metadata": {},
   "outputs": [],
   "source": [
    "# Emotion (0 = neutral, 1 = calm, 2 = happy, 3 = sad, 4 = angry, 5 = fearful, 6 = disgust, 7 = surprised)"
   ]
  },
  {
   "cell_type": "code",
   "execution_count": null,
   "metadata": {},
   "outputs": [],
   "source": []
  }
 ],
 "metadata": {
  "kernelspec": {
   "display_name": "Python [conda env:deep_learning]",
   "language": "python",
   "name": "conda-env-deep_learning-py"
  },
  "language_info": {
   "codemirror_mode": {
    "name": "ipython",
    "version": 3
   },
   "file_extension": ".py",
   "mimetype": "text/x-python",
   "name": "python",
   "nbconvert_exporter": "python",
   "pygments_lexer": "ipython3",
   "version": "3.6.12"
  }
 },
 "nbformat": 4,
 "nbformat_minor": 4
}
